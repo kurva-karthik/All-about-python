{
  "nbformat": 4,
  "nbformat_minor": 0,
  "metadata": {
    "colab": {
      "provenance": [],
      "authorship_tag": "ABX9TyPrJEfJnXRiUNCp49ZFNaff",
      "include_colab_link": true
    },
    "kernelspec": {
      "name": "python3",
      "display_name": "Python 3"
    },
    "language_info": {
      "name": "python"
    }
  },
  "cells": [
    {
      "cell_type": "markdown",
      "metadata": {
        "id": "view-in-github",
        "colab_type": "text"
      },
      "source": [
        "<a href=\"https://colab.research.google.com/github/kurva-karthik/All-about-python/blob/main/simple_calculator_using_python.ipynb\" target=\"_parent\"><img src=\"https://colab.research.google.com/assets/colab-badge.svg\" alt=\"Open In Colab\"/></a>"
      ]
    },
    {
      "cell_type": "code",
      "source": [],
      "metadata": {
        "id": "qcdkKIyPP7M1"
      },
      "execution_count": null,
      "outputs": []
    },
    {
      "cell_type": "code",
      "execution_count": null,
      "metadata": {
        "colab": {
          "base_uri": "https://localhost:8080/"
        },
        "id": "JuTr48jLPEh0",
        "outputId": "b890bb82-d8ea-4259-92c1-6e81891dc318"
      },
      "outputs": [
        {
          "output_type": "stream",
          "name": "stdout",
          "text": [
            "enter the first number12\n",
            "enter the second number50\n",
            "sum of 12 and 50 is 62\n",
            "difference of 12 and 50 is -38\n",
            "product of 12 and 50 is 600\n",
            "division 12 and 50 is 0.24\n"
          ]
        }
      ],
      "source": [
        "first_num = int(input(\"enter the first number\"))\n",
        "second_num = int(input(\"enter the second number\"))\n",
        "\n",
        "print(f\"sum of {first_num} and {second_num} is {first_num + second_num}\")\n",
        "print(f\"difference of {first_num} and {second_num} is {first_num - second_num}\")\n",
        "print(f\"product of {first_num} and {second_num} is {first_num * second_num}\")\n",
        "print(f\"division {first_num} and {second_num} is {first_num / second_num}\")"
      ]
    }
  ]
}