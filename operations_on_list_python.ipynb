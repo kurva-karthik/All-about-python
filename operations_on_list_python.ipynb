{
  "nbformat": 4,
  "nbformat_minor": 0,
  "metadata": {
    "colab": {
      "provenance": [],
      "authorship_tag": "ABX9TyN1zM/CzlZJYJHba3xze1wm",
      "include_colab_link": true
    },
    "kernelspec": {
      "name": "python3",
      "display_name": "Python 3"
    },
    "language_info": {
      "name": "python"
    }
  },
  "cells": [
    {
      "cell_type": "markdown",
      "metadata": {
        "id": "view-in-github",
        "colab_type": "text"
      },
      "source": [
        "<a href=\"https://colab.research.google.com/github/kurva-karthik/All-about-python/blob/main/operations_on_list_python.ipynb\" target=\"_parent\"><img src=\"https://colab.research.google.com/assets/colab-badge.svg\" alt=\"Open In Colab\"/></a>"
      ]
    },
    {
      "cell_type": "code",
      "execution_count": 30,
      "metadata": {
        "id": "JGcXsc3hyLX6",
        "colab": {
          "base_uri": "https://localhost:8080/"
        },
        "outputId": "4db4e9a7-2ed7-4368-fcff-56889f7a8ed0"
      },
      "outputs": [
        {
          "output_type": "stream",
          "name": "stdout",
          "text": [
            "['harry potter', 'twilight', \"charlotte's web\", 'the car in the hat', 'the little prince']\n",
            "second book is: twilight\n",
            "the inventory after adding the book is\n",
            " ['harry potter', 'twilight', \"charlotte's web\", 'the car in the hat', 'the little prince', 'diary of a wimpy kid']\n",
            "after removing the book is \n",
            " ['harry potter', 'twilight', \"charlotte's web\", 'the little prince', 'diary of a wimpy kid']\n",
            "after the updating the book \n",
            " ['harry potter', 'twilight', 'the man', 'the little prince', 'diary of a wimpy kid']\n",
            "the first three books are ['harry potter', 'twilight', 'the man']\n"
          ]
        }
      ],
      "source": [
        "inventory = [\"harry potter\",\"twilight\",\"charlotte's web\",\"the car in the hat\",\"the little prince\"]\n",
        "print(inventory)\n",
        "\n",
        "# second book:\n",
        "print(\"second book is:\",inventory[1])\n",
        "\n",
        "# add a new book\n",
        "new_book = \"diary of a wimpy kid\"\n",
        "inventory.append(new_book)\n",
        "print(\"the inventory after adding the book is\\n\",inventory)\n",
        "\n",
        "# remove the car in the had book\n",
        "inventory.remove(\"the car in the hat\")\n",
        "print(\"after removing the book is \\n\",inventory)\n",
        "\n",
        "# update the title at index 2\n",
        "inventory[2] = \"the man\"\n",
        "print(\"after the updating the book \\n\",inventory)\n",
        "\n",
        "# displaying the first three books\n",
        "print(\"the first three books are\",inventory[0:3])\n",
        "\n",
        "\n",
        "\n"
      ]
    }
  ]
}