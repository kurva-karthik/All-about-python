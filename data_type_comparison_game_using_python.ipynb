{
  "nbformat": 4,
  "nbformat_minor": 0,
  "metadata": {
    "colab": {
      "provenance": [],
      "authorship_tag": "ABX9TyOqpVoJWmZbEBzE3XS2oigy",
      "include_colab_link": true
    },
    "kernelspec": {
      "name": "python3",
      "display_name": "Python 3"
    },
    "language_info": {
      "name": "python"
    }
  },
  "cells": [
    {
      "cell_type": "markdown",
      "metadata": {
        "id": "view-in-github",
        "colab_type": "text"
      },
      "source": [
        "<a href=\"https://colab.research.google.com/github/kurva-karthik/All-about-python/blob/main/data_type_comparison_game_using_python.ipynb\" target=\"_parent\"><img src=\"https://colab.research.google.com/assets/colab-badge.svg\" alt=\"Open In Colab\"/></a>"
      ]
    },
    {
      "cell_type": "code",
      "execution_count": 9,
      "metadata": {
        "colab": {
          "base_uri": "https://localhost:8080/"
        },
        "id": "KSqK5EbFNuVS",
        "outputId": "45202747-6f12-4f0a-d9c3-b52633540e38"
      },
      "outputs": [
        {
          "output_type": "stream",
          "name": "stdout",
          "text": [
            "welcome to data type comparision game!\n",
            "enter your name:karthik\n",
            "are the values 30 and 2.54 are the same type\n",
            "enter your guess :no\n",
            "you are correct\n",
            "are the values hello and world are of same type?\n",
            "enter your guess :yes\n",
            "you are correct\n",
            "are the values True and 25 are of same type?\n",
            "enter your guess :no\n",
            "you are correct\n",
            "are the values 3.55 and 3.56 are of same type?\n",
            "enter your guess :yes\n",
            "you are correct\n"
          ]
        }
      ],
      "source": [
        "# here is now we build a data type comparision game !\n",
        "print(\"welcome to data type comparision game!\")\n",
        "user = input(\"enter your name:\")\n",
        "\n",
        "value1 , value2 = 30,2.54\n",
        "print(f\"are the values {value1} and {value2} are the same type\")\n",
        "guess = input(\"enter your guess :\")\n",
        "if (type(value1) == type(value2)):\n",
        "  correct_ans = \"yes\"\n",
        "else:\n",
        "  correct_ans = \"no\"\n",
        "if (correct_ans == guess):\n",
        " print(\"you are correct\")\n",
        "else:\n",
        " print(\"you are wrong\")\n",
        "value1 , value2 = \"hello\" , \"world\"\n",
        "print(f\"are the values {value1} and {value2} are of same type?\")\n",
        "guess = input(\"enter your guess :\")\n",
        "if (type(value1) == type(value2)):\n",
        "  correct_ans = \"yes\"\n",
        "else:\n",
        "  correct_ans = \"no\"\n",
        "\n",
        "if(correct_ans == guess):\n",
        "  print(\"you are correct\")\n",
        "else:\n",
        "  print(f\"you are wrong the correct answer is : {correct_ans}\")\n",
        "value1 , value2 = True , 25\n",
        "print(f\"are the values {value1} and {value2} are of same type?\")\n",
        "guess = input(\"enter your guess :\")\n",
        "if (type(value1) == type(value2)):\n",
        "  correct_ans = \"yes\"\n",
        "else:\n",
        "  correct_ans = \"no\"\n",
        "\n",
        "if(correct_ans == guess):\n",
        "  print(\"you are correct\")\n",
        "else:\n",
        "  print(f\"you are wrong the correct answer is : {correct_ans}\")\n",
        "value1 , value2 = 3.55 , 3.56\n",
        "print(f\"are the values {value1} and {value2} are of same type?\")\n",
        "guess = input(\"enter your guess :\")\n",
        "if (type(value1) == type(value2)):\n",
        "  correct_ans = \"yes\"\n",
        "else:\n",
        "  correct_ans = \"no\"\n",
        "\n",
        "if(correct_ans == guess):\n",
        "  print(\"you are correct\")\n",
        "else:\n",
        "  print(f\"you are wrong the correct answer is {correct_answe}\")\n"
      ]
    },
    {
      "cell_type": "code",
      "source": [],
      "metadata": {
        "id": "-Jccl7fbO-JS"
      },
      "execution_count": null,
      "outputs": []
    }
  ]
}